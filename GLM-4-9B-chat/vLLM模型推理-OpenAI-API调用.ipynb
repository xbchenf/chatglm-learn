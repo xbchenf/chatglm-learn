{
 "cells": [
  {
   "cell_type": "markdown",
   "id": "61cb8d3b-8f77-48ef-b623-634c85b6e131",
   "metadata": {},
   "source": [
    "# OpenAI Completions API "
   ]
  },
  {
   "cell_type": "code",
   "execution_count": 1,
   "id": "8ea6e138-f0e0-4d20-9ede-b3c187d0a146",
   "metadata": {},
   "outputs": [
    {
     "name": "stdout",
     "output_type": "stream",
     "text": [
      "ChatCompletionMessage(content='\\n你好👋！很高兴见到你，有什么可以帮助你的吗？', role='assistant', function_call=None, tool_calls=[])\n"
     ]
    }
   ],
   "source": [
    "from openai import OpenAI\n",
    "client = OpenAI(\n",
    "    base_url=\"http://localhost:8000/v1\",\n",
    "    api_key=\"token-abc123\", # 随便设，只是为了通过接口参数校验\n",
    ")\n",
    "\n",
    "completion = client.chat.completions.create(\n",
    "  model=\"glm-4-9b-chat\",\n",
    "  messages=[\n",
    "    {\"role\": \"user\", \"content\": \"你好\"}\n",
    "  ],\n",
    "  # 设置额外参数\n",
    "  extra_body={\n",
    "    \"stop_token_ids\": [151329, 151336, 151338]\n",
    "  }\n",
    ")\n",
    "\n",
    "print(completion.choices[0].message)"
   ]
  },
  {
   "cell_type": "markdown",
   "id": "2af7a25d-df50-421d-806b-e6b4dec9bc13",
   "metadata": {},
   "source": [
    "# OpenAI Chat Completions API 。"
   ]
  },
  {
   "cell_type": "code",
   "execution_count": 3,
   "id": "e02900c9-8488-4f0e-8e83-49eb19b4da45",
   "metadata": {},
   "outputs": [
    {
     "name": "stdout",
     "output_type": "stream",
     "text": [
      "ChatCompletion(id='chat-2cdd1f8f35e449b188ede653e425e0eb', choices=[Choice(finish_reason='stop', index=0, logprobs=None, message=ChatCompletionMessage(content='\\n我是一个名为 ChatGLM 的人工智能助手，是基于清华大学 KEG 实验室和智谱 AI 公司于 2024 年共同训练的语言模型开发的。我的任务是针对用户的问题和要求提供适当的答复和支持。', role='assistant', function_call=None, tool_calls=[]), stop_reason=151336)], created=1722434054, model='glm-4-9b-chat', object='chat.completion', service_tier=None, system_fingerprint=None, usage=CompletionUsage(completion_tokens=47, prompt_tokens=16, total_tokens=63))\n"
     ]
    }
   ],
   "source": [
    "from openai import OpenAI\n",
    "\n",
    "openai_api_key = \"EMPTY\" # 随便设，只是为了通过接口参数校验\n",
    "openai_api_base = \"http://localhost:8000/v1\"\n",
    "\n",
    "client = OpenAI(\n",
    "    api_key=openai_api_key,\n",
    "    base_url=openai_api_base,\n",
    ")\n",
    "\n",
    "chat_outputs = client.chat.completions.create(\n",
    "    model=\"glm-4-9b-chat\",\n",
    "    messages=[\n",
    "        {\"role\": \"system\", \"content\": \"You are a helpful assistant.\"},\n",
    "        {\"role\": \"user\", \"content\": \"你是谁？\"},\n",
    "    ],\n",
    "      # 设置额外参数\n",
    "      extra_body={\n",
    "        \"stop_token_ids\": [151329, 151336, 151338]\n",
    "  }\n",
    ")\n",
    "print(chat_outputs)"
   ]
  },
  {
   "cell_type": "code",
   "execution_count": null,
   "id": "29eb2b45-dbfa-42e8-b9a4-0fdc21832809",
   "metadata": {},
   "outputs": [],
   "source": []
  }
 ],
 "metadata": {
  "kernelspec": {
   "display_name": "Python 3 (ipykernel)",
   "language": "python",
   "name": "python3"
  },
  "language_info": {
   "codemirror_mode": {
    "name": "ipython",
    "version": 3
   },
   "file_extension": ".py",
   "mimetype": "text/x-python",
   "name": "python",
   "nbconvert_exporter": "python",
   "pygments_lexer": "ipython3",
   "version": "3.10.8"
  }
 },
 "nbformat": 4,
 "nbformat_minor": 5
}
