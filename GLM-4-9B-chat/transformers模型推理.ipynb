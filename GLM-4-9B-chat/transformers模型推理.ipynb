{
 "cells": [
  {
   "cell_type": "markdown",
   "id": "e380268b-47d3-4858-85ac-bda23d42e226",
   "metadata": {},
   "source": [
    "# transformers推理"
   ]
  },
  {
   "cell_type": "markdown",
   "id": "3ea236f4-674f-40bd-8c21-12c5f7fdfa51",
   "metadata": {},
   "source": [
    "## 创建模型\n",
    "根据本地模型地址，加载分词器和语言模型"
   ]
  },
  {
   "cell_type": "code",
   "execution_count": 1,
   "id": "a5eac4b5-6be0-489e-9cb1-688a6409ff52",
   "metadata": {},
   "outputs": [
    {
     "name": "stderr",
     "output_type": "stream",
     "text": [
      "Special tokens have been added in the vocabulary, make sure the associated word embeddings are fine-tuned or trained.\n"
     ]
    },
    {
     "data": {
      "application/vnd.jupyter.widget-view+json": {
       "model_id": "4de095aed4d74d7e920c9738142052e7",
       "version_major": 2,
       "version_minor": 0
      },
      "text/plain": [
       "Loading checkpoint shards:   0%|          | 0/10 [00:00<?, ?it/s]"
      ]
     },
     "metadata": {},
     "output_type": "display_data"
    }
   ],
   "source": [
    "import torch\n",
    "from transformers import AutoModelForCausalLM, AutoTokenizer\n",
    "\n",
    "# 设定使用的设备为CUDA，如果CUDA不可用，将回退到CPU\n",
    "device = \"cuda\"\n",
    "\n",
    "# 指定预训练模型的路径\n",
    "mode_name_or_path = '/root/autodl-tmp/ZhipuAI/glm-4-9b-chat'\n",
    "\n",
    "# 从指定路径加载预训练的分词器\n",
    "tokenizer = AutoTokenizer.from_pretrained(mode_name_or_path, trust_remote_code=True)\n",
    "\n",
    "\n",
    "# 从指定路径加载预训练的模型\n",
    "# torch_dtype指定数据类型，low_cpu_mem_usage优化CPU内存使用，trust_remote_code允许加载远程代码\n",
    "model = AutoModelForCausalLM.from_pretrained(\n",
    "    mode_name_or_path,\n",
    "    torch_dtype=torch.bfloat16,\n",
    "    low_cpu_mem_usage=True,\n",
    "    trust_remote_code=True\n",
    ").to(device).eval()  # 将模型设置为评估模式\n"
   ]
  },
  {
   "cell_type": "markdown",
   "id": "dd131097-d64d-4746-a417-c3a12f4d052e",
   "metadata": {},
   "source": [
    "## 定义提示消息\n",
    "定义提示消息，对输入消息进行分词处理"
   ]
  },
  {
   "cell_type": "code",
   "execution_count": 2,
   "id": "39584ec4-1eda-4588-870c-1690417d6bf6",
   "metadata": {},
   "outputs": [],
   "source": [
    "# 定义用户输入的查询文本\n",
    "query = \"请介绍一下AI大模型\"\n",
    "\n",
    "# 使用分词器的apply_chat_template方法来准备输入数据\n",
    "# 这个方法会根据聊天模板将用户输入格式化为模型可接受的格式\n",
    "# add_generation_prompt添加生成提示，tokenize进行分词，return_tensors指定返回PyTorch张量\n",
    "# return_dict指定返回字典格式，方便后续处理\n",
    "inputs = tokenizer.apply_chat_template(\n",
    "    [{\"role\": \"user\", \"content\": query}],\n",
    "    add_generation_prompt=True,\n",
    "    tokenize=True,\n",
    "    return_tensors=\"pt\",\n",
    "    return_dict=True\n",
    ")\n",
    "\n",
    "# 将输入数据移动到指定的设备上\n",
    "inputs = inputs.to(device)"
   ]
  },
  {
   "cell_type": "markdown",
   "id": "6a7f52e5-4c54-4fb2-be30-ae31619391da",
   "metadata": {},
   "source": [
    "## 模型文本生成\n",
    "利用模型，根据输入的input，生成输出的响应output"
   ]
  },
  {
   "cell_type": "code",
   "execution_count": 3,
   "id": "ff7828c0-7983-4f12-a82c-af74faec21ff",
   "metadata": {},
   "outputs": [
    {
     "name": "stdout",
     "output_type": "stream",
     "text": [
      "\n",
      "AI大模型，即人工智能大型模型，是指那些具有海量参数和强大计算能力的深度学习模型。这些模型通常用于处理复杂的自然语言处理（NLP）、计算机视觉、语音识别等任务。以下是关于AI大模型的一些详细介绍：\n",
      "\n",
      "1. **定义**：\n",
      "   - AI大模型是指具有数十亿甚至数千亿参数的深度学习模型。\n",
      "   - 这些模型通常采用大规模数据集进行训练，以实现高水平的性能。\n",
      "\n",
      "2. **应用领域**：\n",
      "   - **自然语言处理**：如机器翻译、文本摘要、问答系统等。\n",
      "   - **计算机视觉**：如图像识别、目标检测、图像生成等。\n",
      "   - **语音识别**：如语音转文字、语音合成等。\n",
      "   - **推荐系统**：如个性化推荐、商品推荐等。\n",
      "\n",
      "3. **特点**：\n",
      "   - **强大的计算能力**：AI大模型需要大量的计算资源进行训练和推理。\n",
      "   - **海量参数**：这些模型通常具有数十亿甚至数千亿个参数，能够捕捉到数据中的复杂模式。\n",
      "   - **自学习能力**：AI大模型能够从大量数据中自动学习，无需人工干预。\n",
      "   - **泛化能力**：这些模型在训练数据之外的未知数据上也能表现出良好的性能。\n",
      "\n",
      "4. **挑战**：\n",
      "   - **计算资源**：训练和推理AI大模型需要大量的计算资源，如GPU、TPU等。\n",
      "   - **数据隐私**：AI大模型通常需要大量数据来训练，这可能会引发数据隐私问题。\n",
      "   - **模型可解释性**：AI大模型的决策过程往往难以解释，这可能会影响其在实际应用中的可信度。\n",
      "\n",
      "5. **代表性模型**：\n",
      "   - **Transformer**：一种基于自注意力机制的深度学习模型，广泛应用于NLP任务。\n",
      "   - **BERT**（Bidirectional Encoder Representations from Transformers）：一种基于Transformer的预训练语言模型，在NLP任务中取得了显著成果。\n",
      "   - **GPT**（Generative Pre-trained Transformer）：一种基于Transformer的生成式语言模型，能够生成高质量的文本。\n",
      "\n",
      "总之，AI大模型是人工智能领域的一个重要研究方向，具有广泛的应用前景。随着技术的不断发展，AI大模型将在更多领域发挥重要作用。\n"
     ]
    }
   ],
   "source": [
    "# 定义生成文本时的参数\n",
    "gen_kwargs = {\n",
    "    \"max_length\": 2500,  # 设置生成文本的最大长度\n",
    "    \"do_sample\": True,  # 是否从可能的下一个词中随机选择\n",
    "    \"top_k\": 1  # 从概率最高的k个词中选择\n",
    "}\n",
    "\n",
    "# 使用torch.no_grad()上下文管理器来禁用梯度计算，这在推理时可以减少内存使用\n",
    "with torch.no_grad():\n",
    "    # 使用模型的generate方法生成文本\n",
    "    outputs = model.generate(**inputs, **gen_kwargs)\n",
    "    \n",
    "    # 截取生成的文本，去除开头的提示部分\n",
    "    outputs = outputs[:, inputs['input_ids'].shape[1]:]\n",
    "    \n",
    "    # 使用分词器的decode方法将生成的词ID解码回文本，并打印出来\n",
    "    print(tokenizer.decode(outputs[0], skip_special_tokens=True))"
   ]
  },
  {
   "attachments": {},
   "cell_type": "markdown",
   "id": "1bff6969-c20b-46c4-8d34-5f4c599cc00f",
   "metadata": {},
   "source": []
  },
  {
   "cell_type": "code",
   "execution_count": null,
   "id": "5b31a17a-d6aa-4a32-b82c-1af0817fd7ee",
   "metadata": {},
   "outputs": [],
   "source": []
  }
 ],
 "metadata": {
  "kernelspec": {
   "display_name": "Python 3 (ipykernel)",
   "language": "python",
   "name": "python3"
  },
  "language_info": {
   "codemirror_mode": {
    "name": "ipython",
    "version": 3
   },
   "file_extension": ".py",
   "mimetype": "text/x-python",
   "name": "python",
   "nbconvert_exporter": "python",
   "pygments_lexer": "ipython3",
   "version": "3.10.8"
  }
 },
 "nbformat": 4,
 "nbformat_minor": 5
}
